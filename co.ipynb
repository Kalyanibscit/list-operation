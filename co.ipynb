{
 "cells": [
  {
   "cell_type": "code",
   "execution_count": 3,
   "metadata": {},
   "outputs": [],
   "source": [
    "def bank(name,acc,accty=\"saving\"):\n",
    "    return name,acc,accty"
   ]
  },
  {
   "cell_type": "code",
   "execution_count": 4,
   "metadata": {},
   "outputs": [
    {
     "data": {
      "text/plain": [
       "('kals', 1234, 'saving')"
      ]
     },
     "execution_count": 4,
     "metadata": {},
     "output_type": "execute_result"
    }
   ],
   "source": [
    "bank(\"kals\",1234)"
   ]
  },
  {
   "cell_type": "code",
   "execution_count": 5,
   "metadata": {},
   "outputs": [
    {
     "data": {
      "text/plain": [
       "('kals', 456123, 'demat')"
      ]
     },
     "execution_count": 5,
     "metadata": {},
     "output_type": "execute_result"
    }
   ],
   "source": [
    "bank('kals',456123,\"demat\")"
   ]
  },
  {
   "cell_type": "code",
   "execution_count": 5,
   "metadata": {},
   "outputs": [
    {
     "name": "stdout",
     "output_type": "stream",
     "text": [
      "1\n",
      "2\n",
      "3\n",
      "4\n",
      "5\n",
      "6\n"
     ]
    }
   ],
   "source": [
    "def dataorder(*data):\n",
    "    for i in data:\n",
    "        print(i)\n",
    "       \n",
    "       \n",
    "dataorder(1,2,3,4,5,6)\n",
    "\n",
    "\n",
    "        \n",
    "\n"
   ]
  },
  {
   "cell_type": "code",
   "execution_count": 7,
   "metadata": {},
   "outputs": [
    {
     "name": "stdout",
     "output_type": "stream",
     "text": [
      "nirmal dp red\n",
      "12\n",
      "23\n",
      "54\n"
     ]
    }
   ],
   "source": [
    "def dataorder(name,dp,*data,color=\"green\"):\n",
    "    print(name,dp,color)\n",
    "    for i in data:\n",
    "        print(i)\n",
    "       \n",
    "       \n",
    "dataorder(\"nirmal\",\"dp\",12,23,54,color=\"red\")\n"
   ]
  },
  {
   "cell_type": "code",
   "execution_count": 9,
   "metadata": {},
   "outputs": [
    {
     "name": "stdout",
     "output_type": "stream",
     "text": [
      "kalyani dp red\n",
      "12\n",
      "23\n",
      "54\n"
     ]
    }
   ],
   "source": [
    "dataorder(\"kalyani\",\"dp\",12,23,54,color=\"red\")"
   ]
  },
  {
   "cell_type": "code",
   "execution_count": 18,
   "metadata": {},
   "outputs": [],
   "source": [
    "def guvi(**kw):\n",
    "    print(kw)\n",
    "    print(kw.keys())\n",
    "    print(kw.values())\n",
    "    print(kw.items())\n",
    "    return kw.keys()\n"
   ]
  },
  {
   "cell_type": "code",
   "execution_count": 19,
   "metadata": {},
   "outputs": [
    {
     "name": "stdout",
     "output_type": "stream",
     "text": [
      "{'name': 'kals', 'tech': 'data', 'land': 'chennai'}\n",
      "dict_keys(['name', 'tech', 'land'])\n",
      "dict_values(['kals', 'data', 'chennai'])\n",
      "dict_items([('name', 'kals'), ('tech', 'data'), ('land', 'chennai')])\n"
     ]
    },
    {
     "data": {
      "text/plain": [
       "dict_keys(['name', 'tech', 'land'])"
      ]
     },
     "execution_count": 19,
     "metadata": {},
     "output_type": "execute_result"
    }
   ],
   "source": [
    "guvi(name=\"kals\",tech=\"data\",land=\"chennai\")"
   ]
  },
  {
   "cell_type": "code",
   "execution_count": 30,
   "metadata": {},
   "outputs": [],
   "source": [
    "def guvi(**kw):\n",
    "    print(kw)\n",
    "    a=list(kw.keys())\n",
    "    print(a)\n",
    "    b=list(kw.values())\n",
    "    print(b)\n",
    "    c=list(kw.items())\n",
    "    return kw.keys()"
   ]
  },
  {
   "cell_type": "code",
   "execution_count": 31,
   "metadata": {},
   "outputs": [
    {
     "name": "stdout",
     "output_type": "stream",
     "text": [
      "{'name': 'kals', 'tech': 'data', 'land': 'chennai'}\n",
      "['name', 'tech', 'land']\n",
      "['kals', 'data', 'chennai']\n"
     ]
    },
    {
     "data": {
      "text/plain": [
       "dict_keys(['name', 'tech', 'land'])"
      ]
     },
     "execution_count": 31,
     "metadata": {},
     "output_type": "execute_result"
    }
   ],
   "source": [
    "guvi(name=\"kals\",tech=\"data\",land=\"chennai\")"
   ]
  },
  {
   "cell_type": "code",
   "execution_count": 35,
   "metadata": {},
   "outputs": [],
   "source": [
    "#hierorder function\n",
    "def name(x):\n",
    "    if x.islower():\n",
    "        return True\n",
    "    else:\n",
    "        return False\n",
    "    \n",
    "\n",
    "def validation(x):\n",
    "    if x.isalpha() and name(x):\n",
    "        return \"all good\"\n",
    "    else:\n",
    "        return \"somthing wrong\""
   ]
  },
  {
   "cell_type": "code",
   "execution_count": 36,
   "metadata": {},
   "outputs": [
    {
     "data": {
      "text/plain": [
       "'all good'"
      ]
     },
     "execution_count": 36,
     "metadata": {},
     "output_type": "execute_result"
    }
   ],
   "source": [
    "validation(\"kalyani\")"
   ]
  },
  {
   "cell_type": "code",
   "execution_count": 32,
   "metadata": {},
   "outputs": [],
   "source": [
    "#hierorder function \n",
    "#arument send like function\n",
    "def name(x):\n",
    "    if x.islower():\n",
    "        return True\n",
    "    else:\n",
    "        return False\n",
    "    \n",
    "\n",
    "def validation(x,tt):\n",
    "    if x.isalpha() and tt(x):\n",
    "        return \"all good\"\n",
    "    else:\n",
    "        return \"somthing wrong\""
   ]
  },
  {
   "cell_type": "code",
   "execution_count": 34,
   "metadata": {},
   "outputs": [
    {
     "data": {
      "text/plain": [
       "'all good'"
      ]
     },
     "execution_count": 34,
     "metadata": {},
     "output_type": "execute_result"
    }
   ],
   "source": [
    "validation(\"kalyanilakshmanan\",name)"
   ]
  },
  {
   "cell_type": "code",
   "execution_count": 38,
   "metadata": {},
   "outputs": [
    {
     "name": "stdout",
     "output_type": "stream",
     "text": [
      "120\n"
     ]
    }
   ],
   "source": [
    "#recursive function\n",
    "\n",
    "def factorial(n):\n",
    "    if n in (0,1):\n",
    "        return 1\n",
    "    else:\n",
    "        return n * factorial(n-1)\n",
    "    \n",
    "print(factorial(5))"
   ]
  },
  {
   "cell_type": "code",
   "execution_count": 3,
   "metadata": {},
   "outputs": [
    {
     "data": {
      "text/plain": [
       "100"
      ]
     },
     "execution_count": 3,
     "metadata": {},
     "output_type": "execute_result"
    }
   ],
   "source": [
    "d=10  #global variable declartion\n",
    "def gi():\n",
    "    s=d*10\n",
    "    return s\n",
    "gi()"
   ]
  },
  {
   "cell_type": "code",
   "execution_count": null,
   "metadata": {},
   "outputs": [],
   "source": []
  },
  {
   "cell_type": "code",
   "execution_count": 4,
   "metadata": {},
   "outputs": [
    {
     "ename": "NameError",
     "evalue": "name 'b' is not defined",
     "output_type": "error",
     "traceback": [
      "\u001b[1;31m---------------------------------------------------------------------------\u001b[0m",
      "\u001b[1;31mNameError\u001b[0m                                 Traceback (most recent call last)",
      "Cell \u001b[1;32mIn[4], line 6\u001b[0m\n\u001b[0;32m      4\u001b[0m     s\u001b[38;5;241m=\u001b[39md\u001b[38;5;241m*\u001b[39m\u001b[38;5;241m10\u001b[39m\n\u001b[0;32m      5\u001b[0m     \u001b[38;5;28;01mreturn\u001b[39;00m s\n\u001b[1;32m----> 6\u001b[0m \u001b[38;5;28mprint\u001b[39m(\u001b[43mb\u001b[49m)\n\u001b[0;32m      7\u001b[0m gi()\n",
      "\u001b[1;31mNameError\u001b[0m: name 'b' is not defined"
     ]
    }
   ],
   "source": [
    "d=10\n",
    "def gi():\n",
    "    b=25 #local variable function end after not working\n",
    "    s=d*10\n",
    "    return s\n",
    "print(b)\n",
    "gi()"
   ]
  },
  {
   "cell_type": "code",
   "execution_count": 7,
   "metadata": {},
   "outputs": [
    {
     "name": "stdout",
     "output_type": "stream",
     "text": [
      "10\n",
      "120\n",
      "12\n"
     ]
    }
   ],
   "source": [
    "d=10\n",
    "def gi():\n",
    "    global d\n",
    "    d=d+2\n",
    "    s=d*10\n",
    "    return s\n",
    "print(d)   #fuction call before\n",
    "print(gi())  #function\n",
    "print(d)  #function call after\n"
   ]
  },
  {
   "cell_type": "code",
   "execution_count": 9,
   "metadata": {},
   "outputs": [
    {
     "name": "stdout",
     "output_type": "stream",
     "text": [
      "15\n"
     ]
    }
   ],
   "source": [
    "#lambda function\n",
    "x=lambda a:a+10\n",
    "print(x(5))"
   ]
  },
  {
   "cell_type": "code",
   "execution_count": 10,
   "metadata": {},
   "outputs": [
    {
     "name": "stdout",
     "output_type": "stream",
     "text": [
      "25\n"
     ]
    }
   ],
   "source": [
    "x=lambda a,b:a*b\n",
    "print(x(5,5))"
   ]
  },
  {
   "cell_type": "code",
   "execution_count": 11,
   "metadata": {},
   "outputs": [
    {
     "name": "stdout",
     "output_type": "stream",
     "text": [
      "even\n"
     ]
    }
   ],
   "source": [
    "a=lambda a:\"even\" if a%2==0 else \"odd\"\n",
    "print(a(10))"
   ]
  },
  {
   "cell_type": "code",
   "execution_count": 14,
   "metadata": {},
   "outputs": [
    {
     "name": "stdout",
     "output_type": "stream",
     "text": [
      "[98, 65, 25]\n"
     ]
    }
   ],
   "source": [
    "#filter function\n",
    "ages=[5,8,98,65,25]\n",
    "def adult(x):\n",
    "    if x<18:\n",
    "        return False\n",
    "    else:\n",
    "        return True\n",
    "    \n",
    "adults=filter(adult,ages)\n",
    "print(list(adults))"
   ]
  },
  {
   "cell_type": "code",
   "execution_count": 1,
   "metadata": {},
   "outputs": [
    {
     "name": "stdout",
     "output_type": "stream",
     "text": [
      "[78, 85, 23]\n"
     ]
    }
   ],
   "source": [
    "#filter and lambda function\n",
    "ages=[78,85,12,23,14]\n",
    "adults1=filter(lambda x:False if x<18 else True,ages)\n",
    "print(list(adults1))"
   ]
  },
  {
   "cell_type": "code",
   "execution_count": 20,
   "metadata": {},
   "outputs": [
    {
     "name": "stdout",
     "output_type": "stream",
     "text": [
      "['nirmal', 'nisanth', 'hariharan', 'arivalagan']\n",
      "['nirmal', 'hariharan', 'arivalagan']\n"
     ]
    }
   ],
   "source": [
    "#if and lambda function\n",
    "name=[\"nirmal\",\"nisanth\",\"hariharan\",\"arivalagan\"]\n",
    "def remove1(x):\n",
    "    if \"n\" and \"r\" in x:\n",
    "        return True\n",
    "    else:\n",
    "        return False\n",
    "remove=filter(lambda x:True if \"a\" in x else False,name)\n",
    "remove1=filter(remove1,name)\n",
    "print(list(remove))\n",
    "print(list(remove1))"
   ]
  },
  {
   "cell_type": "code",
   "execution_count": 3,
   "metadata": {},
   "outputs": [
    {
     "name": "stdout",
     "output_type": "stream",
     "text": [
      "[['CAT'], ['DOG'], ['ELEPHANT']]\n"
     ]
    }
   ],
   "source": [
    "#map function (spread logic)\n",
    "def myfunc(n):\n",
    "    return [n.upper()]\n",
    "x=map(myfunc,('cat','dog','elephant'))\n",
    "print(list(x))"
   ]
  },
  {
   "cell_type": "code",
   "execution_count": 6,
   "metadata": {},
   "outputs": [
    {
     "name": "stdout",
     "output_type": "stream",
     "text": [
      "[[3], [3], [8]]\n"
     ]
    }
   ],
   "source": [
    "def myfunc(n):\n",
    "    return [len(n)]\n",
    "x=map(myfunc,('cat','dog','elephant'))\n",
    "print(list(x))"
   ]
  },
  {
   "cell_type": "code",
   "execution_count": 7,
   "metadata": {},
   "outputs": [
    {
     "name": "stdout",
     "output_type": "stream",
     "text": [
      "['kalyani', 'is', 'good', 'girl']\n"
     ]
    }
   ],
   "source": [
    "a=\"kalyani is good girl\"\n",
    "x=map(str,a.split()) #split function seperate values\n",
    "print(list(x))"
   ]
  },
  {
   "cell_type": "code",
   "execution_count": 8,
   "metadata": {},
   "outputs": [
    {
     "name": "stdout",
     "output_type": "stream",
     "text": [
      "[1, 3, 2, 5, 4, 6]\n"
     ]
    }
   ],
   "source": [
    "a=\"1 3 2 5 4 6\"   #get string value\n",
    "x=map(int,a.split())  #convert integer\n",
    "print(list(x))"
   ]
  },
  {
   "cell_type": "code",
   "execution_count": 3,
   "metadata": {},
   "outputs": [
    {
     "name": "stdout",
     "output_type": "stream",
     "text": [
      "good\n",
      "good\n"
     ]
    }
   ],
   "source": [
    "#class method object\n",
    "class nirmal():\n",
    "    x=\"good\"\n",
    "\n",
    "\n",
    "a=nirmal()\n",
    "b=nirmal()\n",
    "print(a.x)\n",
    "print(b.x)"
   ]
  },
  {
   "cell_type": "code",
   "execution_count": 1,
   "metadata": {},
   "outputs": [],
   "source": [
    "class human():\n",
    "    def __init__(self):\n",
    "        pass\n",
    "    def kidney(self):\n",
    "        return \"purifies blood\"\n",
    "    def heart(self):\n",
    "        return \"pumb of oxigen\"\n",
    "    def liver(self):\n",
    "        return \"help to digestion\""
   ]
  },
  {
   "cell_type": "code",
   "execution_count": 2,
   "metadata": {},
   "outputs": [
    {
     "name": "stdout",
     "output_type": "stream",
     "text": [
      "help to digestion\n",
      "purifies blood\n"
     ]
    }
   ],
   "source": [
    "nirmal=human()\n",
    "guvi=human()\n",
    "print(nirmal.liver())\n",
    "print(guvi.kidney())"
   ]
  },
  {
   "cell_type": "code",
   "execution_count": 3,
   "metadata": {},
   "outputs": [
    {
     "data": {
      "text/plain": [
       "'purifies blood'"
      ]
     },
     "execution_count": 3,
     "metadata": {},
     "output_type": "execute_result"
    }
   ],
   "source": [
    "nirmal.kidney()"
   ]
  },
  {
   "cell_type": "code",
   "execution_count": 3,
   "metadata": {},
   "outputs": [],
   "source": [
    "class bank():\n",
    "    def __init__(self,name,acno,bal):\n",
    "        self.name = name\n",
    "        self.acno = acno\n",
    "        self.bal = bal\n",
    "    \n",
    "    def deposite(self,amount):\n",
    "        self.bal=self.bal+amount\n",
    "        return \"your bal is\" + str(self.bal)"
   ]
  },
  {
   "cell_type": "code",
   "execution_count": 4,
   "metadata": {},
   "outputs": [
    {
     "data": {
      "text/plain": [
       "'your bal is10100'"
      ]
     },
     "execution_count": 4,
     "metadata": {},
     "output_type": "execute_result"
    }
   ],
   "source": [
    "guvi = bank(\"guvi\",123,10000)\n",
    "guvi.deposite(100)"
   ]
  },
  {
   "cell_type": "code",
   "execution_count": 9,
   "metadata": {},
   "outputs": [
    {
     "data": {
      "text/plain": [
       "'your bal is10200'"
      ]
     },
     "execution_count": 9,
     "metadata": {},
     "output_type": "execute_result"
    }
   ],
   "source": [
    "nirmal = bank(\"nethaji\",222,10000)\n",
    "nirmal.deposite(200)"
   ]
  },
  {
   "cell_type": "code",
   "execution_count": 10,
   "metadata": {},
   "outputs": [
    {
     "data": {
      "text/plain": [
       "10200"
      ]
     },
     "execution_count": 10,
     "metadata": {},
     "output_type": "execute_result"
    }
   ],
   "source": [
    "nirmal.bal"
   ]
  },
  {
   "cell_type": "code",
   "execution_count": 11,
   "metadata": {},
   "outputs": [
    {
     "data": {
      "text/plain": [
       "10100"
      ]
     },
     "execution_count": 11,
     "metadata": {},
     "output_type": "execute_result"
    }
   ],
   "source": [
    "guvi.bal"
   ]
  },
  {
   "cell_type": "code",
   "execution_count": 23,
   "metadata": {},
   "outputs": [
    {
     "data": {
      "text/plain": [
       "'your balance is11312'"
      ]
     },
     "execution_count": 23,
     "metadata": {},
     "output_type": "execute_result"
    }
   ],
   "source": [
    "class bank():\n",
    "   def __init__(self,name,acc,bal):\n",
    "       self.name=name\n",
    "       self.acc=acc\n",
    "       self.bal=bal\n",
    "\n",
    "\n",
    "   def deposite(self,amount):\n",
    "       self.bal=self.bal+amount\n",
    "       return \"your balance is\" + str(self.bal)\n",
    "  \n",
    "guvi=bank(\"guvipvt\",123,10000)\n",
    "guvi.deposite(1312)\n",
    "\n"
   ]
  },
  {
   "cell_type": "code",
   "execution_count": 18,
   "metadata": {},
   "outputs": [],
   "source": [
    "# multilevel inheritance\n",
    "\n",
    "class father():\n",
    "    def hair(self):\n",
    "        return \"black hair\"\n",
    "\n",
    "class son(father):\n",
    "    def nose(self):\n",
    "        return \"kilimooku\"\n",
    "    \n",
    "class grandson(son):\n",
    "    def brain(self):\n",
    "        return(\"IQ 200\")\n"
   ]
  },
  {
   "cell_type": "code",
   "execution_count": 19,
   "metadata": {},
   "outputs": [
    {
     "name": "stdout",
     "output_type": "stream",
     "text": [
      "black hair\n",
      "kilimooku\n",
      "IQ 200\n"
     ]
    }
   ],
   "source": [
    "c =grandson()\n",
    "print(c.hair())\n",
    "print(c.nose())\n",
    "print(c.brain())"
   ]
  },
  {
   "cell_type": "code",
   "execution_count": 7,
   "metadata": {},
   "outputs": [
    {
     "data": {
      "text/plain": [
       "'kilimooku'"
      ]
     },
     "execution_count": 7,
     "metadata": {},
     "output_type": "execute_result"
    }
   ],
   "source": [
    "a=son()\n",
    "a.nose()"
   ]
  },
  {
   "cell_type": "code",
   "execution_count": 16,
   "metadata": {},
   "outputs": [
    {
     "data": {
      "text/plain": [
       "'black hair'"
      ]
     },
     "execution_count": 16,
     "metadata": {},
     "output_type": "execute_result"
    }
   ],
   "source": [
    "a=son()\n",
    "a.hair()"
   ]
  },
  {
   "cell_type": "code",
   "execution_count": 8,
   "metadata": {},
   "outputs": [
    {
     "data": {
      "text/plain": [
       "'kilimooku'"
      ]
     },
     "execution_count": 8,
     "metadata": {},
     "output_type": "execute_result"
    }
   ],
   "source": [
    "import guvi as g\n",
    "\n",
    "a=g.son()\n",
    "a.nose()\n"
   ]
  },
  {
   "cell_type": "code",
   "execution_count": 20,
   "metadata": {},
   "outputs": [
    {
     "data": {
      "text/plain": [
       "'black hair'"
      ]
     },
     "execution_count": 20,
     "metadata": {},
     "output_type": "execute_result"
    }
   ],
   "source": [
    "import w\n",
    "\n",
    "b=w.ennamo()\n",
    "b.hair()"
   ]
  },
  {
   "cell_type": "code",
   "execution_count": 2,
   "metadata": {},
   "outputs": [],
   "source": [
    "# multiple inheritance\n",
    "\n",
    "class father():\n",
    "    def hair(self):\n",
    "        return \"black hair\"\n",
    "    \n",
    "class mother():\n",
    "    def anbu(self):\n",
    "        return \"always unlimited\"\n",
    "\n",
    "class son(father,mother):\n",
    "    def nose(self):\n",
    "        return \"kilimooku\"\n",
    "    \n",
    "#class grandson(son):\n",
    " #   def brain(self):\n",
    " #       return(\"IQ 200\")\n"
   ]
  },
  {
   "cell_type": "code",
   "execution_count": 3,
   "metadata": {},
   "outputs": [
    {
     "name": "stdout",
     "output_type": "stream",
     "text": [
      "black hair\n",
      "kilimooku\n",
      "always unlimited\n"
     ]
    }
   ],
   "source": [
    "a=son()\n",
    "print(a.hair())\n",
    "print(a.nose())\n",
    "print(a.anbu())\n"
   ]
  },
  {
   "cell_type": "code",
   "execution_count": 4,
   "metadata": {},
   "outputs": [],
   "source": [
    "#hierarchical inheritance\n",
    "class father():\n",
    "    def hair(self):\n",
    "        return \"black hair\"\n",
    "    \n",
    "class mother():\n",
    "    def anbu(self):\n",
    "        return \"always unlimited\"\n",
    "\n",
    "class son(father,mother):\n",
    "    def nose(self):\n",
    "        return \"kilimooku\"\n",
    "    \n",
    "class grandson(son):\n",
    "    def brain(self):\n",
    "        return(\"IQ 200\")"
   ]
  },
  {
   "cell_type": "code",
   "execution_count": 5,
   "metadata": {},
   "outputs": [
    {
     "name": "stdout",
     "output_type": "stream",
     "text": [
      "black hair\n",
      "kilimooku\n",
      "always unlimited\n"
     ]
    }
   ],
   "source": [
    "a=grandson()\n",
    "print(a.hair())\n",
    "print(a.nose())\n",
    "print(a.anbu())"
   ]
  },
  {
   "cell_type": "code",
   "execution_count": 7,
   "metadata": {},
   "outputs": [],
   "source": [
    "# polymorphism\n",
    "\n",
    "class son(father,mother):\n",
    "    def nose(self):\n",
    "        return \"kilimooku\"\n",
    "    \n",
    "class grandson(son):\n",
    "    def brain(self):\n",
    "        return(\"IQ 200\")\n",
    "    def nose(self):\n",
    "        return \"sharp nose\""
   ]
  },
  {
   "cell_type": "code",
   "execution_count": 10,
   "metadata": {},
   "outputs": [
    {
     "name": "stdout",
     "output_type": "stream",
     "text": [
      "sharp nose\n"
     ]
    }
   ],
   "source": [
    "a=grandson()\n",
    "print(a.nose())"
   ]
  },
  {
   "cell_type": "code",
   "execution_count": 16,
   "metadata": {},
   "outputs": [
    {
     "name": "stdout",
     "output_type": "stream",
     "text": [
      "100\n",
      "1000000\n",
      "-500\n"
     ]
    }
   ],
   "source": [
    "#without encapsulation\n",
    "class BankAccount:\n",
    "   def __init__(self, account_number, balance):\n",
    "       self.account_number = account_number\n",
    "       self.balance = balance  # Public attribute\n",
    "\n",
    "\n",
    "   def deposit(self, amount):\n",
    "       self.balance += amount\n",
    "       return self.balance\n",
    "\n",
    "\n",
    "   def withdraw(self, amount):\n",
    "       if amount > self.balance:\n",
    "           print(\"Insufficient funds!\")\n",
    "           return\n",
    "       self.balance -= amount\n",
    "       return self.balance\n",
    "\n",
    "\n",
    "   def get_balance(self):\n",
    "       return self.balance\n",
    "account = BankAccount(\"123456789\", 100)\n",
    "print(account.get_balance())  # 100\n",
    "\n",
    "\n",
    "# With the balance being public, we can change it directly, potentially causing data inconsistency or misuse:\n",
    "account.balance = 1000000\n",
    "print(account.get_balance())  # 1000000\n",
    "\n",
    "\n",
    "# Or even set it to nonsensical values:\n",
    "account.balance = -500\n",
    "print(account.get_balance())  # -500"
   ]
  },
  {
   "cell_type": "code",
   "execution_count": 17,
   "metadata": {},
   "outputs": [
    {
     "name": "stdout",
     "output_type": "stream",
     "text": [
      "100\n",
      "100\n",
      "100\n",
      "10100\n"
     ]
    }
   ],
   "source": [
    "#with encapsulation\n",
    "class BankAccount:\n",
    "   def __init__(self, account_number, balance):\n",
    "       self.account_number = account_number\n",
    "       self.__balance = balance  # Private attribute\n",
    "\n",
    "\n",
    "   def deposit(self, amount):\n",
    "       self.__balance += amount\n",
    "       return self.__balance\n",
    "\n",
    "\n",
    "   def withdraw(self, amount):\n",
    "       if amount > self.__balance:\n",
    "           print(\"Insufficient funds!\")\n",
    "           return\n",
    "       self.__balance -= amount\n",
    "       return self.__balance\n",
    "\n",
    "\n",
    "   def get_balance(self):\n",
    "       return self.__balance\n",
    "\n",
    "\n",
    "\n",
    "\n",
    "account = BankAccount(\"123456789\", 100)\n",
    "print(account.get_balance())  # 100\n",
    "\n",
    "\n",
    "# With the balance being public, we can change it directly, potentially causing data inconsistency or misuse:\n",
    "account.balance = 1000000\n",
    "print(account.get_balance())  # 1000000\n",
    "\n",
    "\n",
    "# Or even set it to nonsensical values:\n",
    "#account.balance = -500\n",
    "print(account.get_balance())  # -500\n",
    "\n",
    "\n",
    "account.deposit(10000)\n",
    "print(account.get_balance())\n",
    "\n",
    "\n",
    "\n",
    "\n"
   ]
  },
  {
   "cell_type": "code",
   "execution_count": 1,
   "metadata": {},
   "outputs": [],
   "source": [
    "!mkdir github"
   ]
  },
  {
   "cell_type": "code",
   "execution_count": 2,
   "metadata": {},
   "outputs": [],
   "source": [
    "import os \n",
    "os.mkdir(\"cod\")"
   ]
  },
  {
   "cell_type": "code",
   "execution_count": 3,
   "metadata": {},
   "outputs": [],
   "source": [
    "!rmdir cod"
   ]
  }
 ],
 "metadata": {
  "kernelspec": {
   "display_name": "Python 3",
   "language": "python",
   "name": "python3"
  },
  "language_info": {
   "codemirror_mode": {
    "name": "ipython",
    "version": 3
   },
   "file_extension": ".py",
   "mimetype": "text/x-python",
   "name": "python",
   "nbconvert_exporter": "python",
   "pygments_lexer": "ipython3",
   "version": "3.12.3"
  }
 },
 "nbformat": 4,
 "nbformat_minor": 2
}
